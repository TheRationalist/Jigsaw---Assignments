{
 "cells": [
  {
   "cell_type": "markdown",
   "metadata": {},
   "source": [
    "# Smart Certification\n",
    "\n",
    "The given data set **goodforu-class12** has been collected as a part of a survey exercise done by a leading snacks manufacturer. This snacks manufacturer produces 6 different brands. The actual brand names have been masked and are present in the dataset as Brand A, Brand B, Brand C, Brand D, Brand E and Brand F. There is also a data dictionary named **goodforu-variable-descriptions-class13.xlsx**. This manufacturer is interested in finding out what factors affect the perception for Brand A. Here dependent variable & Independent variables are both Categorical. Thus, we will use **Logistic Regression**."
   ]
  },
  {
   "cell_type": "code",
   "execution_count": 1,
   "metadata": {},
   "outputs": [],
   "source": [
    "# Setting the path of the working directory\n",
    "\n",
    "import os\n",
    "os.chdir('C:/Users/Admin/Desktop/Data Science/03. Directory/01. Jigsaw - FSDS/02. Data/01. CSV files')"
   ]
  },
  {
   "cell_type": "code",
   "execution_count": 2,
   "metadata": {},
   "outputs": [],
   "source": [
    "# Importing some commonly required package\n",
    "\n",
    "import pandas as pd\n",
    "import numpy as np\n",
    "import matplotlib.pyplot as plt\n",
    "from pandas import DataFrame\n",
    "%matplotlib inline"
   ]
  },
  {
   "cell_type": "code",
   "execution_count": 3,
   "metadata": {},
   "outputs": [],
   "source": [
    "# Read the goodforu-class12 datafile from working directory\n",
    "\n",
    "goodforu = pd.read_csv (\"goodforu-class12.csv\",na_values = [\"\", \" \",\"NA\",\"N/A\"])"
   ]
  },
  {
   "cell_type": "code",
   "execution_count": 4,
   "metadata": {},
   "outputs": [
    {
     "data": {
      "text/html": [
       "<div>\n",
       "<style scoped>\n",
       "    .dataframe tbody tr th:only-of-type {\n",
       "        vertical-align: middle;\n",
       "    }\n",
       "\n",
       "    .dataframe tbody tr th {\n",
       "        vertical-align: top;\n",
       "    }\n",
       "\n",
       "    .dataframe thead th {\n",
       "        text-align: right;\n",
       "    }\n",
       "</style>\n",
       "<table border=\"1\" class=\"dataframe\">\n",
       "  <thead>\n",
       "    <tr style=\"text-align: right;\">\n",
       "      <th></th>\n",
       "      <th>Panel ID</th>\n",
       "      <th>X1</th>\n",
       "      <th>X2</th>\n",
       "      <th>X3</th>\n",
       "      <th>X4</th>\n",
       "      <th>X5</th>\n",
       "      <th>X6</th>\n",
       "      <th>X7</th>\n",
       "      <th>X8</th>\n",
       "      <th>X9</th>\n",
       "      <th>...</th>\n",
       "      <th>X53</th>\n",
       "      <th>X54</th>\n",
       "      <th>X55</th>\n",
       "      <th>X56</th>\n",
       "      <th>X57</th>\n",
       "      <th>X58</th>\n",
       "      <th>X59</th>\n",
       "      <th>X60</th>\n",
       "      <th>X61</th>\n",
       "      <th>X62</th>\n",
       "    </tr>\n",
       "  </thead>\n",
       "  <tbody>\n",
       "    <tr>\n",
       "      <th>0</th>\n",
       "      <td>1</td>\n",
       "      <td>2</td>\n",
       "      <td>2</td>\n",
       "      <td>1</td>\n",
       "      <td>2</td>\n",
       "      <td>2</td>\n",
       "      <td>2</td>\n",
       "      <td>2</td>\n",
       "      <td>2</td>\n",
       "      <td>2</td>\n",
       "      <td>...</td>\n",
       "      <td>4</td>\n",
       "      <td>4</td>\n",
       "      <td>3</td>\n",
       "      <td>4</td>\n",
       "      <td>4</td>\n",
       "      <td>4</td>\n",
       "      <td>4</td>\n",
       "      <td>4</td>\n",
       "      <td>4</td>\n",
       "      <td>3</td>\n",
       "    </tr>\n",
       "    <tr>\n",
       "      <th>1</th>\n",
       "      <td>2</td>\n",
       "      <td>1</td>\n",
       "      <td>1</td>\n",
       "      <td>2</td>\n",
       "      <td>1</td>\n",
       "      <td>2</td>\n",
       "      <td>1</td>\n",
       "      <td>2</td>\n",
       "      <td>2</td>\n",
       "      <td>2</td>\n",
       "      <td>...</td>\n",
       "      <td>3</td>\n",
       "      <td>4</td>\n",
       "      <td>4</td>\n",
       "      <td>3</td>\n",
       "      <td>4</td>\n",
       "      <td>4</td>\n",
       "      <td>4</td>\n",
       "      <td>3</td>\n",
       "      <td>4</td>\n",
       "      <td>4</td>\n",
       "    </tr>\n",
       "    <tr>\n",
       "      <th>2</th>\n",
       "      <td>3</td>\n",
       "      <td>2</td>\n",
       "      <td>2</td>\n",
       "      <td>1</td>\n",
       "      <td>1</td>\n",
       "      <td>2</td>\n",
       "      <td>2</td>\n",
       "      <td>1</td>\n",
       "      <td>2</td>\n",
       "      <td>2</td>\n",
       "      <td>...</td>\n",
       "      <td>5</td>\n",
       "      <td>5</td>\n",
       "      <td>5</td>\n",
       "      <td>4</td>\n",
       "      <td>5</td>\n",
       "      <td>4</td>\n",
       "      <td>5</td>\n",
       "      <td>4</td>\n",
       "      <td>3</td>\n",
       "      <td>5</td>\n",
       "    </tr>\n",
       "    <tr>\n",
       "      <th>3</th>\n",
       "      <td>4</td>\n",
       "      <td>1</td>\n",
       "      <td>1</td>\n",
       "      <td>1</td>\n",
       "      <td>1</td>\n",
       "      <td>2</td>\n",
       "      <td>1</td>\n",
       "      <td>1</td>\n",
       "      <td>1</td>\n",
       "      <td>1</td>\n",
       "      <td>...</td>\n",
       "      <td>5</td>\n",
       "      <td>4</td>\n",
       "      <td>3</td>\n",
       "      <td>5</td>\n",
       "      <td>4</td>\n",
       "      <td>3</td>\n",
       "      <td>3</td>\n",
       "      <td>3</td>\n",
       "      <td>2</td>\n",
       "      <td>4</td>\n",
       "    </tr>\n",
       "    <tr>\n",
       "      <th>4</th>\n",
       "      <td>5</td>\n",
       "      <td>1</td>\n",
       "      <td>1</td>\n",
       "      <td>1</td>\n",
       "      <td>1</td>\n",
       "      <td>1</td>\n",
       "      <td>1</td>\n",
       "      <td>1</td>\n",
       "      <td>1</td>\n",
       "      <td>1</td>\n",
       "      <td>...</td>\n",
       "      <td>4</td>\n",
       "      <td>5</td>\n",
       "      <td>4</td>\n",
       "      <td>4</td>\n",
       "      <td>3</td>\n",
       "      <td>3</td>\n",
       "      <td>4</td>\n",
       "      <td>1</td>\n",
       "      <td>1</td>\n",
       "      <td>3</td>\n",
       "    </tr>\n",
       "  </tbody>\n",
       "</table>\n",
       "<p>5 rows × 61 columns</p>\n",
       "</div>"
      ],
      "text/plain": [
       "   Panel ID  X1  X2  X3  X4  X5  X6  X7  X8  X9  ...  X53  X54  X55  X56  X57  \\\n",
       "0         1   2   2   1   2   2   2   2   2   2  ...    4    4    3    4    4   \n",
       "1         2   1   1   2   1   2   1   2   2   2  ...    3    4    4    3    4   \n",
       "2         3   2   2   1   1   2   2   1   2   2  ...    5    5    5    4    5   \n",
       "3         4   1   1   1   1   2   1   1   1   1  ...    5    4    3    5    4   \n",
       "4         5   1   1   1   1   1   1   1   1   1  ...    4    5    4    4    3   \n",
       "\n",
       "   X58  X59  X60  X61  X62  \n",
       "0    4    4    4    4    3  \n",
       "1    4    4    3    4    4  \n",
       "2    4    5    4    3    5  \n",
       "3    3    3    3    2    4  \n",
       "4    3    4    1    1    3  \n",
       "\n",
       "[5 rows x 61 columns]"
      ]
     },
     "execution_count": 4,
     "metadata": {},
     "output_type": "execute_result"
    }
   ],
   "source": [
    "goodforu.head()"
   ]
  },
  {
   "cell_type": "code",
   "execution_count": 5,
   "metadata": {},
   "outputs": [
    {
     "data": {
      "text/html": [
       "<div>\n",
       "<style scoped>\n",
       "    .dataframe tbody tr th:only-of-type {\n",
       "        vertical-align: middle;\n",
       "    }\n",
       "\n",
       "    .dataframe tbody tr th {\n",
       "        vertical-align: top;\n",
       "    }\n",
       "\n",
       "    .dataframe thead th {\n",
       "        text-align: right;\n",
       "    }\n",
       "</style>\n",
       "<table border=\"1\" class=\"dataframe\">\n",
       "  <thead>\n",
       "    <tr style=\"text-align: right;\">\n",
       "      <th></th>\n",
       "      <th>Panel ID</th>\n",
       "      <th>X1</th>\n",
       "      <th>X2</th>\n",
       "      <th>X3</th>\n",
       "      <th>X4</th>\n",
       "      <th>X5</th>\n",
       "      <th>X6</th>\n",
       "      <th>X7</th>\n",
       "      <th>X8</th>\n",
       "      <th>X9</th>\n",
       "      <th>...</th>\n",
       "      <th>X53</th>\n",
       "      <th>X54</th>\n",
       "      <th>X55</th>\n",
       "      <th>X56</th>\n",
       "      <th>X57</th>\n",
       "      <th>X58</th>\n",
       "      <th>X59</th>\n",
       "      <th>X60</th>\n",
       "      <th>X61</th>\n",
       "      <th>X62</th>\n",
       "    </tr>\n",
       "  </thead>\n",
       "  <tbody>\n",
       "    <tr>\n",
       "      <th>count</th>\n",
       "      <td>24114.000000</td>\n",
       "      <td>24114.000000</td>\n",
       "      <td>24114.000000</td>\n",
       "      <td>24114.000000</td>\n",
       "      <td>24114.000000</td>\n",
       "      <td>24114.000000</td>\n",
       "      <td>24114.000000</td>\n",
       "      <td>24114.000000</td>\n",
       "      <td>24114.000000</td>\n",
       "      <td>24114.000000</td>\n",
       "      <td>...</td>\n",
       "      <td>24114.000000</td>\n",
       "      <td>24114.000000</td>\n",
       "      <td>24114.000000</td>\n",
       "      <td>24114.000000</td>\n",
       "      <td>24114.000000</td>\n",
       "      <td>24114.000000</td>\n",
       "      <td>24114.000000</td>\n",
       "      <td>24114.000000</td>\n",
       "      <td>24114.000000</td>\n",
       "      <td>24114.000000</td>\n",
       "    </tr>\n",
       "    <tr>\n",
       "      <th>mean</th>\n",
       "      <td>12057.500000</td>\n",
       "      <td>1.175790</td>\n",
       "      <td>1.206851</td>\n",
       "      <td>1.154889</td>\n",
       "      <td>1.136891</td>\n",
       "      <td>1.634196</td>\n",
       "      <td>1.171850</td>\n",
       "      <td>1.077465</td>\n",
       "      <td>1.641660</td>\n",
       "      <td>1.683794</td>\n",
       "      <td>...</td>\n",
       "      <td>3.725305</td>\n",
       "      <td>4.434644</td>\n",
       "      <td>3.571411</td>\n",
       "      <td>3.678734</td>\n",
       "      <td>2.414946</td>\n",
       "      <td>2.455462</td>\n",
       "      <td>3.488140</td>\n",
       "      <td>3.006055</td>\n",
       "      <td>2.327569</td>\n",
       "      <td>3.541511</td>\n",
       "    </tr>\n",
       "    <tr>\n",
       "      <th>std</th>\n",
       "      <td>6961.256532</td>\n",
       "      <td>0.380649</td>\n",
       "      <td>0.405056</td>\n",
       "      <td>0.361807</td>\n",
       "      <td>0.343740</td>\n",
       "      <td>0.481665</td>\n",
       "      <td>0.377258</td>\n",
       "      <td>0.267334</td>\n",
       "      <td>0.479523</td>\n",
       "      <td>0.465004</td>\n",
       "      <td>...</td>\n",
       "      <td>1.142964</td>\n",
       "      <td>0.756988</td>\n",
       "      <td>1.083300</td>\n",
       "      <td>1.109599</td>\n",
       "      <td>1.119013</td>\n",
       "      <td>1.133825</td>\n",
       "      <td>1.199834</td>\n",
       "      <td>1.231694</td>\n",
       "      <td>1.093549</td>\n",
       "      <td>1.167066</td>\n",
       "    </tr>\n",
       "    <tr>\n",
       "      <th>min</th>\n",
       "      <td>1.000000</td>\n",
       "      <td>1.000000</td>\n",
       "      <td>1.000000</td>\n",
       "      <td>1.000000</td>\n",
       "      <td>1.000000</td>\n",
       "      <td>1.000000</td>\n",
       "      <td>1.000000</td>\n",
       "      <td>1.000000</td>\n",
       "      <td>1.000000</td>\n",
       "      <td>1.000000</td>\n",
       "      <td>...</td>\n",
       "      <td>1.000000</td>\n",
       "      <td>1.000000</td>\n",
       "      <td>1.000000</td>\n",
       "      <td>1.000000</td>\n",
       "      <td>1.000000</td>\n",
       "      <td>1.000000</td>\n",
       "      <td>1.000000</td>\n",
       "      <td>1.000000</td>\n",
       "      <td>1.000000</td>\n",
       "      <td>1.000000</td>\n",
       "    </tr>\n",
       "    <tr>\n",
       "      <th>25%</th>\n",
       "      <td>6029.250000</td>\n",
       "      <td>1.000000</td>\n",
       "      <td>1.000000</td>\n",
       "      <td>1.000000</td>\n",
       "      <td>1.000000</td>\n",
       "      <td>1.000000</td>\n",
       "      <td>1.000000</td>\n",
       "      <td>1.000000</td>\n",
       "      <td>1.000000</td>\n",
       "      <td>1.000000</td>\n",
       "      <td>...</td>\n",
       "      <td>3.000000</td>\n",
       "      <td>4.000000</td>\n",
       "      <td>3.000000</td>\n",
       "      <td>3.000000</td>\n",
       "      <td>1.000000</td>\n",
       "      <td>1.000000</td>\n",
       "      <td>3.000000</td>\n",
       "      <td>2.000000</td>\n",
       "      <td>1.000000</td>\n",
       "      <td>3.000000</td>\n",
       "    </tr>\n",
       "    <tr>\n",
       "      <th>50%</th>\n",
       "      <td>12057.500000</td>\n",
       "      <td>1.000000</td>\n",
       "      <td>1.000000</td>\n",
       "      <td>1.000000</td>\n",
       "      <td>1.000000</td>\n",
       "      <td>2.000000</td>\n",
       "      <td>1.000000</td>\n",
       "      <td>1.000000</td>\n",
       "      <td>2.000000</td>\n",
       "      <td>2.000000</td>\n",
       "      <td>...</td>\n",
       "      <td>4.000000</td>\n",
       "      <td>5.000000</td>\n",
       "      <td>4.000000</td>\n",
       "      <td>4.000000</td>\n",
       "      <td>2.000000</td>\n",
       "      <td>2.000000</td>\n",
       "      <td>4.000000</td>\n",
       "      <td>3.000000</td>\n",
       "      <td>2.000000</td>\n",
       "      <td>4.000000</td>\n",
       "    </tr>\n",
       "    <tr>\n",
       "      <th>75%</th>\n",
       "      <td>18085.750000</td>\n",
       "      <td>1.000000</td>\n",
       "      <td>1.000000</td>\n",
       "      <td>1.000000</td>\n",
       "      <td>1.000000</td>\n",
       "      <td>2.000000</td>\n",
       "      <td>1.000000</td>\n",
       "      <td>1.000000</td>\n",
       "      <td>2.000000</td>\n",
       "      <td>2.000000</td>\n",
       "      <td>...</td>\n",
       "      <td>5.000000</td>\n",
       "      <td>5.000000</td>\n",
       "      <td>4.000000</td>\n",
       "      <td>5.000000</td>\n",
       "      <td>3.000000</td>\n",
       "      <td>3.000000</td>\n",
       "      <td>4.000000</td>\n",
       "      <td>4.000000</td>\n",
       "      <td>3.000000</td>\n",
       "      <td>4.000000</td>\n",
       "    </tr>\n",
       "    <tr>\n",
       "      <th>max</th>\n",
       "      <td>24114.000000</td>\n",
       "      <td>2.000000</td>\n",
       "      <td>2.000000</td>\n",
       "      <td>2.000000</td>\n",
       "      <td>2.000000</td>\n",
       "      <td>2.000000</td>\n",
       "      <td>2.000000</td>\n",
       "      <td>2.000000</td>\n",
       "      <td>2.000000</td>\n",
       "      <td>2.000000</td>\n",
       "      <td>...</td>\n",
       "      <td>5.000000</td>\n",
       "      <td>5.000000</td>\n",
       "      <td>5.000000</td>\n",
       "      <td>5.000000</td>\n",
       "      <td>5.000000</td>\n",
       "      <td>5.000000</td>\n",
       "      <td>5.000000</td>\n",
       "      <td>5.000000</td>\n",
       "      <td>5.000000</td>\n",
       "      <td>5.000000</td>\n",
       "    </tr>\n",
       "  </tbody>\n",
       "</table>\n",
       "<p>8 rows × 61 columns</p>\n",
       "</div>"
      ],
      "text/plain": [
       "           Panel ID            X1            X2            X3            X4  \\\n",
       "count  24114.000000  24114.000000  24114.000000  24114.000000  24114.000000   \n",
       "mean   12057.500000      1.175790      1.206851      1.154889      1.136891   \n",
       "std     6961.256532      0.380649      0.405056      0.361807      0.343740   \n",
       "min        1.000000      1.000000      1.000000      1.000000      1.000000   \n",
       "25%     6029.250000      1.000000      1.000000      1.000000      1.000000   \n",
       "50%    12057.500000      1.000000      1.000000      1.000000      1.000000   \n",
       "75%    18085.750000      1.000000      1.000000      1.000000      1.000000   \n",
       "max    24114.000000      2.000000      2.000000      2.000000      2.000000   \n",
       "\n",
       "                 X5            X6            X7            X8            X9  \\\n",
       "count  24114.000000  24114.000000  24114.000000  24114.000000  24114.000000   \n",
       "mean       1.634196      1.171850      1.077465      1.641660      1.683794   \n",
       "std        0.481665      0.377258      0.267334      0.479523      0.465004   \n",
       "min        1.000000      1.000000      1.000000      1.000000      1.000000   \n",
       "25%        1.000000      1.000000      1.000000      1.000000      1.000000   \n",
       "50%        2.000000      1.000000      1.000000      2.000000      2.000000   \n",
       "75%        2.000000      1.000000      1.000000      2.000000      2.000000   \n",
       "max        2.000000      2.000000      2.000000      2.000000      2.000000   \n",
       "\n",
       "       ...           X53           X54           X55           X56  \\\n",
       "count  ...  24114.000000  24114.000000  24114.000000  24114.000000   \n",
       "mean   ...      3.725305      4.434644      3.571411      3.678734   \n",
       "std    ...      1.142964      0.756988      1.083300      1.109599   \n",
       "min    ...      1.000000      1.000000      1.000000      1.000000   \n",
       "25%    ...      3.000000      4.000000      3.000000      3.000000   \n",
       "50%    ...      4.000000      5.000000      4.000000      4.000000   \n",
       "75%    ...      5.000000      5.000000      4.000000      5.000000   \n",
       "max    ...      5.000000      5.000000      5.000000      5.000000   \n",
       "\n",
       "                X57           X58           X59           X60           X61  \\\n",
       "count  24114.000000  24114.000000  24114.000000  24114.000000  24114.000000   \n",
       "mean       2.414946      2.455462      3.488140      3.006055      2.327569   \n",
       "std        1.119013      1.133825      1.199834      1.231694      1.093549   \n",
       "min        1.000000      1.000000      1.000000      1.000000      1.000000   \n",
       "25%        1.000000      1.000000      3.000000      2.000000      1.000000   \n",
       "50%        2.000000      2.000000      4.000000      3.000000      2.000000   \n",
       "75%        3.000000      3.000000      4.000000      4.000000      3.000000   \n",
       "max        5.000000      5.000000      5.000000      5.000000      5.000000   \n",
       "\n",
       "                X62  \n",
       "count  24114.000000  \n",
       "mean       3.541511  \n",
       "std        1.167066  \n",
       "min        1.000000  \n",
       "25%        3.000000  \n",
       "50%        4.000000  \n",
       "75%        4.000000  \n",
       "max        5.000000  \n",
       "\n",
       "[8 rows x 61 columns]"
      ]
     },
     "execution_count": 5,
     "metadata": {},
     "output_type": "execute_result"
    }
   ],
   "source": [
    "# Data Exploration.  \n",
    "\n",
    "goodforu.describe() #The original dataset has 61 variables and 24114 observations."
   ]
  },
  {
   "cell_type": "code",
   "execution_count": 6,
   "metadata": {},
   "outputs": [],
   "source": [
    "# Data preparation for Brand A. Refer to goodforu-variable-descriptions-class13.xlsx to identify that there are 5 variables \n",
    "# corresponding to Brand A namely: X2, X9, X16, X23, and X30\n",
    "\n",
    "goodforu_Brand_A = goodforu[['X2', 'X9', 'X16', 'X23', 'X30']]"
   ]
  },
  {
   "cell_type": "code",
   "execution_count": 7,
   "metadata": {},
   "outputs": [
    {
     "data": {
      "text/html": [
       "<div>\n",
       "<style scoped>\n",
       "    .dataframe tbody tr th:only-of-type {\n",
       "        vertical-align: middle;\n",
       "    }\n",
       "\n",
       "    .dataframe tbody tr th {\n",
       "        vertical-align: top;\n",
       "    }\n",
       "\n",
       "    .dataframe thead th {\n",
       "        text-align: right;\n",
       "    }\n",
       "</style>\n",
       "<table border=\"1\" class=\"dataframe\">\n",
       "  <thead>\n",
       "    <tr style=\"text-align: right;\">\n",
       "      <th></th>\n",
       "      <th>X2</th>\n",
       "      <th>X9</th>\n",
       "      <th>X16</th>\n",
       "      <th>X23</th>\n",
       "      <th>X30</th>\n",
       "    </tr>\n",
       "  </thead>\n",
       "  <tbody>\n",
       "    <tr>\n",
       "      <th>0</th>\n",
       "      <td>2</td>\n",
       "      <td>2</td>\n",
       "      <td>2</td>\n",
       "      <td>9</td>\n",
       "      <td>1</td>\n",
       "    </tr>\n",
       "    <tr>\n",
       "      <th>1</th>\n",
       "      <td>1</td>\n",
       "      <td>2</td>\n",
       "      <td>2</td>\n",
       "      <td>6</td>\n",
       "      <td>9</td>\n",
       "    </tr>\n",
       "    <tr>\n",
       "      <th>2</th>\n",
       "      <td>2</td>\n",
       "      <td>2</td>\n",
       "      <td>2</td>\n",
       "      <td>2</td>\n",
       "      <td>3</td>\n",
       "    </tr>\n",
       "    <tr>\n",
       "      <th>3</th>\n",
       "      <td>1</td>\n",
       "      <td>1</td>\n",
       "      <td>1</td>\n",
       "      <td>2</td>\n",
       "      <td>3</td>\n",
       "    </tr>\n",
       "    <tr>\n",
       "      <th>4</th>\n",
       "      <td>1</td>\n",
       "      <td>1</td>\n",
       "      <td>1</td>\n",
       "      <td>8</td>\n",
       "      <td>5</td>\n",
       "    </tr>\n",
       "  </tbody>\n",
       "</table>\n",
       "</div>"
      ],
      "text/plain": [
       "   X2  X9  X16  X23  X30\n",
       "0   2   2    2    9    1\n",
       "1   1   2    2    6    9\n",
       "2   2   2    2    2    3\n",
       "3   1   1    1    2    3\n",
       "4   1   1    1    8    5"
      ]
     },
     "execution_count": 7,
     "metadata": {},
     "output_type": "execute_result"
    }
   ],
   "source": [
    "goodforu_Brand_A.head()"
   ]
  },
  {
   "cell_type": "code",
   "execution_count": 8,
   "metadata": {},
   "outputs": [
    {
     "data": {
      "text/html": [
       "<div>\n",
       "<style scoped>\n",
       "    .dataframe tbody tr th:only-of-type {\n",
       "        vertical-align: middle;\n",
       "    }\n",
       "\n",
       "    .dataframe tbody tr th {\n",
       "        vertical-align: top;\n",
       "    }\n",
       "\n",
       "    .dataframe thead th {\n",
       "        text-align: right;\n",
       "    }\n",
       "</style>\n",
       "<table border=\"1\" class=\"dataframe\">\n",
       "  <thead>\n",
       "    <tr style=\"text-align: right;\">\n",
       "      <th></th>\n",
       "      <th>X2</th>\n",
       "      <th>X9</th>\n",
       "      <th>X16</th>\n",
       "      <th>X23</th>\n",
       "      <th>X30</th>\n",
       "    </tr>\n",
       "  </thead>\n",
       "  <tbody>\n",
       "    <tr>\n",
       "      <th>count</th>\n",
       "      <td>24114.000000</td>\n",
       "      <td>24114.000000</td>\n",
       "      <td>24114.000000</td>\n",
       "      <td>24114.000000</td>\n",
       "      <td>24114.000000</td>\n",
       "    </tr>\n",
       "    <tr>\n",
       "      <th>mean</th>\n",
       "      <td>1.206851</td>\n",
       "      <td>1.683794</td>\n",
       "      <td>1.558555</td>\n",
       "      <td>4.327445</td>\n",
       "      <td>4.336112</td>\n",
       "    </tr>\n",
       "    <tr>\n",
       "      <th>std</th>\n",
       "      <td>0.405056</td>\n",
       "      <td>0.465004</td>\n",
       "      <td>0.496570</td>\n",
       "      <td>2.086072</td>\n",
       "      <td>2.167850</td>\n",
       "    </tr>\n",
       "    <tr>\n",
       "      <th>min</th>\n",
       "      <td>1.000000</td>\n",
       "      <td>1.000000</td>\n",
       "      <td>1.000000</td>\n",
       "      <td>1.000000</td>\n",
       "      <td>1.000000</td>\n",
       "    </tr>\n",
       "    <tr>\n",
       "      <th>25%</th>\n",
       "      <td>1.000000</td>\n",
       "      <td>1.000000</td>\n",
       "      <td>1.000000</td>\n",
       "      <td>3.000000</td>\n",
       "      <td>3.000000</td>\n",
       "    </tr>\n",
       "    <tr>\n",
       "      <th>50%</th>\n",
       "      <td>1.000000</td>\n",
       "      <td>2.000000</td>\n",
       "      <td>2.000000</td>\n",
       "      <td>4.000000</td>\n",
       "      <td>5.000000</td>\n",
       "    </tr>\n",
       "    <tr>\n",
       "      <th>75%</th>\n",
       "      <td>1.000000</td>\n",
       "      <td>2.000000</td>\n",
       "      <td>2.000000</td>\n",
       "      <td>6.000000</td>\n",
       "      <td>6.000000</td>\n",
       "    </tr>\n",
       "    <tr>\n",
       "      <th>max</th>\n",
       "      <td>2.000000</td>\n",
       "      <td>2.000000</td>\n",
       "      <td>2.000000</td>\n",
       "      <td>10.000000</td>\n",
       "      <td>10.000000</td>\n",
       "    </tr>\n",
       "  </tbody>\n",
       "</table>\n",
       "</div>"
      ],
      "text/plain": [
       "                 X2            X9           X16           X23           X30\n",
       "count  24114.000000  24114.000000  24114.000000  24114.000000  24114.000000\n",
       "mean       1.206851      1.683794      1.558555      4.327445      4.336112\n",
       "std        0.405056      0.465004      0.496570      2.086072      2.167850\n",
       "min        1.000000      1.000000      1.000000      1.000000      1.000000\n",
       "25%        1.000000      1.000000      1.000000      3.000000      3.000000\n",
       "50%        1.000000      2.000000      2.000000      4.000000      5.000000\n",
       "75%        1.000000      2.000000      2.000000      6.000000      6.000000\n",
       "max        2.000000      2.000000      2.000000     10.000000     10.000000"
      ]
     },
     "execution_count": 8,
     "metadata": {},
     "output_type": "execute_result"
    }
   ],
   "source": [
    "# Sanity check of Data_Brand_A\n",
    "\n",
    "goodforu_Brand_A.describe()"
   ]
  },
  {
   "cell_type": "code",
   "execution_count": 9,
   "metadata": {},
   "outputs": [
    {
     "data": {
      "text/plain": [
       "X2     0\n",
       "X9     0\n",
       "X16    0\n",
       "X23    0\n",
       "X30    0\n",
       "dtype: int64"
      ]
     },
     "execution_count": 9,
     "metadata": {},
     "output_type": "execute_result"
    }
   ],
   "source": [
    "goodforu_Brand_A.isnull().sum()"
   ]
  },
  {
   "cell_type": "code",
   "execution_count": 10,
   "metadata": {},
   "outputs": [
    {
     "data": {
      "text/plain": [
       "X2     0\n",
       "X9     0\n",
       "X16    0\n",
       "X23    0\n",
       "X30    0\n",
       "dtype: int64"
      ]
     },
     "execution_count": 10,
     "metadata": {},
     "output_type": "execute_result"
    }
   ],
   "source": [
    "goodforu_Brand_A.isna().sum()"
   ]
  },
  {
   "cell_type": "code",
   "execution_count": 11,
   "metadata": {},
   "outputs": [],
   "source": [
    "# Using more appropriate names\n",
    "## X2: Brand A chips: Are made with farm grown ingredients like potato, corn or wheat?\n",
    "## X9: Brand A chips: Have zero grams trans fat\n",
    "## X16: Brand A chips: Are made with natural oils\n",
    "## X23: Brand A chips : Rate the following 10 = good for you, 1 = bad for you\n",
    "## X30: Brand A chips : 10 = minimallyProcessed / 1 = Heavily processed on a 10 point scale\n",
    "\n",
    "pd.options.mode.chained_assignment = None  # default='warn'\n",
    "goodforu_Brand_A.rename(columns = {'X2' : 'Farm_Grown_Ingredients',\n",
    "                                   'X9' : 'Zero_Grams_Trans_Fat', \n",
    "                                   'X16' : 'Made_With_Natural_Oils',\n",
    "                                   'X23' : 'Rating', \n",
    "                                   'X30' : 'Process'},inplace = True)"
   ]
  },
  {
   "cell_type": "code",
   "execution_count": 12,
   "metadata": {},
   "outputs": [
    {
     "data": {
      "text/html": [
       "<div>\n",
       "<style scoped>\n",
       "    .dataframe tbody tr th:only-of-type {\n",
       "        vertical-align: middle;\n",
       "    }\n",
       "\n",
       "    .dataframe tbody tr th {\n",
       "        vertical-align: top;\n",
       "    }\n",
       "\n",
       "    .dataframe thead th {\n",
       "        text-align: right;\n",
       "    }\n",
       "</style>\n",
       "<table border=\"1\" class=\"dataframe\">\n",
       "  <thead>\n",
       "    <tr style=\"text-align: right;\">\n",
       "      <th></th>\n",
       "      <th>Farm_Grown_Ingredients</th>\n",
       "      <th>Zero_Grams_Trans_Fat</th>\n",
       "      <th>Made_With_Natural_Oils</th>\n",
       "      <th>Rating</th>\n",
       "      <th>Process</th>\n",
       "    </tr>\n",
       "  </thead>\n",
       "  <tbody>\n",
       "    <tr>\n",
       "      <th>0</th>\n",
       "      <td>2</td>\n",
       "      <td>2</td>\n",
       "      <td>2</td>\n",
       "      <td>9</td>\n",
       "      <td>1</td>\n",
       "    </tr>\n",
       "    <tr>\n",
       "      <th>1</th>\n",
       "      <td>1</td>\n",
       "      <td>2</td>\n",
       "      <td>2</td>\n",
       "      <td>6</td>\n",
       "      <td>9</td>\n",
       "    </tr>\n",
       "    <tr>\n",
       "      <th>2</th>\n",
       "      <td>2</td>\n",
       "      <td>2</td>\n",
       "      <td>2</td>\n",
       "      <td>2</td>\n",
       "      <td>3</td>\n",
       "    </tr>\n",
       "    <tr>\n",
       "      <th>3</th>\n",
       "      <td>1</td>\n",
       "      <td>1</td>\n",
       "      <td>1</td>\n",
       "      <td>2</td>\n",
       "      <td>3</td>\n",
       "    </tr>\n",
       "    <tr>\n",
       "      <th>4</th>\n",
       "      <td>1</td>\n",
       "      <td>1</td>\n",
       "      <td>1</td>\n",
       "      <td>8</td>\n",
       "      <td>5</td>\n",
       "    </tr>\n",
       "  </tbody>\n",
       "</table>\n",
       "</div>"
      ],
      "text/plain": [
       "   Farm_Grown_Ingredients  Zero_Grams_Trans_Fat  Made_With_Natural_Oils  \\\n",
       "0                       2                     2                       2   \n",
       "1                       1                     2                       2   \n",
       "2                       2                     2                       2   \n",
       "3                       1                     1                       1   \n",
       "4                       1                     1                       1   \n",
       "\n",
       "   Rating  Process  \n",
       "0       9        1  \n",
       "1       6        9  \n",
       "2       2        3  \n",
       "3       2        3  \n",
       "4       8        5  "
      ]
     },
     "execution_count": 12,
     "metadata": {},
     "output_type": "execute_result"
    }
   ],
   "source": [
    "goodforu_Brand_A.head()"
   ]
  },
  {
   "cell_type": "code",
   "execution_count": 13,
   "metadata": {},
   "outputs": [],
   "source": [
    "# Create a new target variables: Target_Rating corresponding to variables Rating.\n",
    "\n",
    "## Target_Rating: The score of 5 or more means people has a good perception & score of less than 5 means people has a bad \n",
    "## perception. Target_Rating = 1 => Good Perception & Target_Rating  = 0 => Bad perception\n",
    "\n",
    "goodforu_Brand_A['Target_Rating'] = goodforu_Brand_A['Rating'].map(lambda x : 1 if x >= 5 else 0)"
   ]
  },
  {
   "cell_type": "code",
   "execution_count": 14,
   "metadata": {},
   "outputs": [
    {
     "data": {
      "text/html": [
       "<div>\n",
       "<style scoped>\n",
       "    .dataframe tbody tr th:only-of-type {\n",
       "        vertical-align: middle;\n",
       "    }\n",
       "\n",
       "    .dataframe tbody tr th {\n",
       "        vertical-align: top;\n",
       "    }\n",
       "\n",
       "    .dataframe thead th {\n",
       "        text-align: right;\n",
       "    }\n",
       "</style>\n",
       "<table border=\"1\" class=\"dataframe\">\n",
       "  <thead>\n",
       "    <tr style=\"text-align: right;\">\n",
       "      <th></th>\n",
       "      <th>Farm_Grown_Ingredients</th>\n",
       "      <th>Zero_Grams_Trans_Fat</th>\n",
       "      <th>Made_With_Natural_Oils</th>\n",
       "      <th>Rating</th>\n",
       "      <th>Process</th>\n",
       "      <th>Target_Rating</th>\n",
       "    </tr>\n",
       "  </thead>\n",
       "  <tbody>\n",
       "    <tr>\n",
       "      <th>0</th>\n",
       "      <td>2</td>\n",
       "      <td>2</td>\n",
       "      <td>2</td>\n",
       "      <td>9</td>\n",
       "      <td>1</td>\n",
       "      <td>1</td>\n",
       "    </tr>\n",
       "    <tr>\n",
       "      <th>1</th>\n",
       "      <td>1</td>\n",
       "      <td>2</td>\n",
       "      <td>2</td>\n",
       "      <td>6</td>\n",
       "      <td>9</td>\n",
       "      <td>1</td>\n",
       "    </tr>\n",
       "    <tr>\n",
       "      <th>2</th>\n",
       "      <td>2</td>\n",
       "      <td>2</td>\n",
       "      <td>2</td>\n",
       "      <td>2</td>\n",
       "      <td>3</td>\n",
       "      <td>0</td>\n",
       "    </tr>\n",
       "    <tr>\n",
       "      <th>3</th>\n",
       "      <td>1</td>\n",
       "      <td>1</td>\n",
       "      <td>1</td>\n",
       "      <td>2</td>\n",
       "      <td>3</td>\n",
       "      <td>0</td>\n",
       "    </tr>\n",
       "    <tr>\n",
       "      <th>4</th>\n",
       "      <td>1</td>\n",
       "      <td>1</td>\n",
       "      <td>1</td>\n",
       "      <td>8</td>\n",
       "      <td>5</td>\n",
       "      <td>1</td>\n",
       "    </tr>\n",
       "  </tbody>\n",
       "</table>\n",
       "</div>"
      ],
      "text/plain": [
       "   Farm_Grown_Ingredients  Zero_Grams_Trans_Fat  Made_With_Natural_Oils  \\\n",
       "0                       2                     2                       2   \n",
       "1                       1                     2                       2   \n",
       "2                       2                     2                       2   \n",
       "3                       1                     1                       1   \n",
       "4                       1                     1                       1   \n",
       "\n",
       "   Rating  Process  Target_Rating  \n",
       "0       9        1              1  \n",
       "1       6        9              1  \n",
       "2       2        3              0  \n",
       "3       2        3              0  \n",
       "4       8        5              1  "
      ]
     },
     "execution_count": 14,
     "metadata": {},
     "output_type": "execute_result"
    }
   ],
   "source": [
    "goodforu_Brand_A.head()"
   ]
  },
  {
   "cell_type": "code",
   "execution_count": 15,
   "metadata": {},
   "outputs": [],
   "source": [
    "# Now drop the variables Rating & Process\n",
    "\n",
    "goodforu_Brand_A = goodforu_Brand_A.drop(['Rating'],axis = 1)"
   ]
  },
  {
   "cell_type": "code",
   "execution_count": 16,
   "metadata": {},
   "outputs": [
    {
     "data": {
      "text/html": [
       "<div>\n",
       "<style scoped>\n",
       "    .dataframe tbody tr th:only-of-type {\n",
       "        vertical-align: middle;\n",
       "    }\n",
       "\n",
       "    .dataframe tbody tr th {\n",
       "        vertical-align: top;\n",
       "    }\n",
       "\n",
       "    .dataframe thead th {\n",
       "        text-align: right;\n",
       "    }\n",
       "</style>\n",
       "<table border=\"1\" class=\"dataframe\">\n",
       "  <thead>\n",
       "    <tr style=\"text-align: right;\">\n",
       "      <th></th>\n",
       "      <th>Farm_Grown_Ingredients</th>\n",
       "      <th>Zero_Grams_Trans_Fat</th>\n",
       "      <th>Made_With_Natural_Oils</th>\n",
       "      <th>Process</th>\n",
       "      <th>Target_Rating</th>\n",
       "    </tr>\n",
       "  </thead>\n",
       "  <tbody>\n",
       "    <tr>\n",
       "      <th>0</th>\n",
       "      <td>2</td>\n",
       "      <td>2</td>\n",
       "      <td>2</td>\n",
       "      <td>1</td>\n",
       "      <td>1</td>\n",
       "    </tr>\n",
       "    <tr>\n",
       "      <th>1</th>\n",
       "      <td>1</td>\n",
       "      <td>2</td>\n",
       "      <td>2</td>\n",
       "      <td>9</td>\n",
       "      <td>1</td>\n",
       "    </tr>\n",
       "    <tr>\n",
       "      <th>2</th>\n",
       "      <td>2</td>\n",
       "      <td>2</td>\n",
       "      <td>2</td>\n",
       "      <td>3</td>\n",
       "      <td>0</td>\n",
       "    </tr>\n",
       "    <tr>\n",
       "      <th>3</th>\n",
       "      <td>1</td>\n",
       "      <td>1</td>\n",
       "      <td>1</td>\n",
       "      <td>3</td>\n",
       "      <td>0</td>\n",
       "    </tr>\n",
       "    <tr>\n",
       "      <th>4</th>\n",
       "      <td>1</td>\n",
       "      <td>1</td>\n",
       "      <td>1</td>\n",
       "      <td>5</td>\n",
       "      <td>1</td>\n",
       "    </tr>\n",
       "  </tbody>\n",
       "</table>\n",
       "</div>"
      ],
      "text/plain": [
       "   Farm_Grown_Ingredients  Zero_Grams_Trans_Fat  Made_With_Natural_Oils  \\\n",
       "0                       2                     2                       2   \n",
       "1                       1                     2                       2   \n",
       "2                       2                     2                       2   \n",
       "3                       1                     1                       1   \n",
       "4                       1                     1                       1   \n",
       "\n",
       "   Process  Target_Rating  \n",
       "0        1              1  \n",
       "1        9              1  \n",
       "2        3              0  \n",
       "3        3              0  \n",
       "4        5              1  "
      ]
     },
     "execution_count": 16,
     "metadata": {},
     "output_type": "execute_result"
    }
   ],
   "source": [
    "goodforu_Brand_A.head()"
   ]
  },
  {
   "cell_type": "code",
   "execution_count": 17,
   "metadata": {},
   "outputs": [],
   "source": [
    "## Split the data into test and train\n",
    "\n",
    "goodforu_Brand_A_train = goodforu_Brand_A.sample(frac = 0.80, random_state = 200)\n",
    "goodforu_Brand_A_test = goodforu_Brand_A.drop(goodforu_Brand_A_train.index)"
   ]
  },
  {
   "cell_type": "code",
   "execution_count": 18,
   "metadata": {},
   "outputs": [],
   "source": [
    "## Build Model\n",
    "\n",
    "import statsmodels.formula.api as smf\n",
    "import statsmodels.api as sm"
   ]
  },
  {
   "cell_type": "code",
   "execution_count": 19,
   "metadata": {},
   "outputs": [],
   "source": [
    "model1 = smf.glm(\"Target_Rating ~ Farm_Grown_Ingredients + Zero_Grams_Trans_Fat + Made_With_Natural_Oils + Process\",\n",
    "                 data = goodforu_Brand_A_train, family = sm.families.Binomial()).fit()"
   ]
  },
  {
   "cell_type": "code",
   "execution_count": 20,
   "metadata": {
    "scrolled": true
   },
   "outputs": [
    {
     "name": "stdout",
     "output_type": "stream",
     "text": [
      "                 Generalized Linear Model Regression Results                  \n",
      "==============================================================================\n",
      "Dep. Variable:          Target_Rating   No. Observations:                19291\n",
      "Model:                            GLM   Df Residuals:                    19286\n",
      "Model Family:                Binomial   Df Model:                            4\n",
      "Link Function:                  logit   Scale:                          1.0000\n",
      "Method:                          IRLS   Log-Likelihood:                -11130.\n",
      "Date:                Fri, 25 Sep 2020   Deviance:                       22261.\n",
      "Time:                        19:47:40   Pearson chi2:                 1.99e+04\n",
      "No. Iterations:                     4                                         \n",
      "Covariance Type:            nonrobust                                         \n",
      "==========================================================================================\n",
      "                             coef    std err          z      P>|z|      [0.025      0.975]\n",
      "------------------------------------------------------------------------------------------\n",
      "Intercept                 -0.5209      0.091     -5.695      0.000      -0.700      -0.342\n",
      "Farm_Grown_Ingredients    -0.2523      0.042     -5.988      0.000      -0.335      -0.170\n",
      "Zero_Grams_Trans_Fat      -0.3519      0.037     -9.476      0.000      -0.425      -0.279\n",
      "Made_With_Natural_Oils    -0.3808      0.036    -10.688      0.000      -0.451      -0.311\n",
      "Process                    0.4591      0.009     51.740      0.000       0.442       0.476\n",
      "==========================================================================================\n"
     ]
    }
   ],
   "source": [
    "print(model1.summary()) # Note: All the variables are significant"
   ]
  },
  {
   "cell_type": "code",
   "execution_count": 21,
   "metadata": {},
   "outputs": [],
   "source": [
    "# Model Validation\n",
    "\n",
    "import sklearn.metrics as metrics"
   ]
  },
  {
   "cell_type": "code",
   "execution_count": 22,
   "metadata": {},
   "outputs": [],
   "source": [
    "y_true = goodforu_Brand_A_test['Target_Rating']\n",
    "y_pred = model1.predict(goodforu_Brand_A_test)"
   ]
  },
  {
   "cell_type": "code",
   "execution_count": 23,
   "metadata": {},
   "outputs": [
    {
     "data": {
      "text/plain": [
       "3     0.467851\n",
       "4     0.687703\n",
       "5     0.607655\n",
       "17    0.514160\n",
       "18    0.514160\n",
       "dtype: float64"
      ]
     },
     "execution_count": 23,
     "metadata": {},
     "output_type": "execute_result"
    }
   ],
   "source": [
    "y_pred.head()"
   ]
  },
  {
   "cell_type": "code",
   "execution_count": 24,
   "metadata": {},
   "outputs": [
    {
     "data": {
      "text/plain": [
       "array([[1671,  710],\n",
       "       [ 683, 1759]], dtype=int64)"
      ]
     },
     "execution_count": 24,
     "metadata": {},
     "output_type": "execute_result"
    }
   ],
   "source": [
    "y_true = goodforu_Brand_A_test['Target_Rating']\n",
    "y_pred = model1.predict(goodforu_Brand_A_test).map(lambda x: 1 if x > 0.5 else 0)\n",
    "metrics.confusion_matrix(y_true,y_pred)"
   ]
  },
  {
   "cell_type": "code",
   "execution_count": 25,
   "metadata": {},
   "outputs": [],
   "source": [
    "## ROC curve\n",
    "\n",
    "y_score = model1.predict(goodforu_Brand_A_test)\n",
    "fpr,tpr,threshold = metrics.roc_curve(y_true,y_score)\n",
    "x,y = np.arange(0,1.1,0.1), np.arange(0,1.1,0.1)"
   ]
  },
  {
   "cell_type": "code",
   "execution_count": 69,
   "metadata": {},
   "outputs": [
    {
     "data": {
      "text/plain": [
       "Text(0.5, 0, 'False Positive Rate')"
      ]
     },
     "execution_count": 69,
     "metadata": {},
     "output_type": "execute_result"
    },
    {
     "data": {
      "image/png": "[encoded data removed]",
      "text/plain": [
       "<Figure size 432x288 with 1 Axes>"
      ]
     },
     "metadata": {
      "needs_background": "light"
     },
     "output_type": "display_data"
    }
   ],
   "source": [
    "plt.plot(fpr,tpr,'-')\n",
    "plt.plot(x,y,'b--')\n",
    "plt.ylabel('True Positive Rate')\n",
    "plt.xlabel('False Positive Rate')"
   ]
  },
  {
   "cell_type": "code",
   "execution_count": 27,
   "metadata": {},
   "outputs": [
    {
     "data": {
      "text/plain": [
       "0.7682609492773289"
      ]
     },
     "execution_count": 27,
     "metadata": {},
     "output_type": "execute_result"
    }
   ],
   "source": [
    "## AUC\n",
    "\n",
    "metrics.roc_auc_score(y_true,y_score)"
   ]
  },
  {
   "cell_type": "code",
   "execution_count": 28,
   "metadata": {},
   "outputs": [],
   "source": [
    "## Gains\n",
    "\n",
    "goodforu_Brand_A_test['Prob'] = model1.predict(goodforu_Brand_A_test)"
   ]
  },
  {
   "cell_type": "code",
   "execution_count": 29,
   "metadata": {},
   "outputs": [
    {
     "data": {
      "text/html": [
       "<div>\n",
       "<style scoped>\n",
       "    .dataframe tbody tr th:only-of-type {\n",
       "        vertical-align: middle;\n",
       "    }\n",
       "\n",
       "    .dataframe tbody tr th {\n",
       "        vertical-align: top;\n",
       "    }\n",
       "\n",
       "    .dataframe thead th {\n",
       "        text-align: right;\n",
       "    }\n",
       "</style>\n",
       "<table border=\"1\" class=\"dataframe\">\n",
       "  <thead>\n",
       "    <tr style=\"text-align: right;\">\n",
       "      <th></th>\n",
       "      <th>Farm_Grown_Ingredients</th>\n",
       "      <th>Zero_Grams_Trans_Fat</th>\n",
       "      <th>Made_With_Natural_Oils</th>\n",
       "      <th>Process</th>\n",
       "      <th>Target_Rating</th>\n",
       "      <th>Prob</th>\n",
       "    </tr>\n",
       "  </thead>\n",
       "  <tbody>\n",
       "    <tr>\n",
       "      <th>3</th>\n",
       "      <td>1</td>\n",
       "      <td>1</td>\n",
       "      <td>1</td>\n",
       "      <td>3</td>\n",
       "      <td>0</td>\n",
       "      <td>0.467851</td>\n",
       "    </tr>\n",
       "    <tr>\n",
       "      <th>4</th>\n",
       "      <td>1</td>\n",
       "      <td>1</td>\n",
       "      <td>1</td>\n",
       "      <td>5</td>\n",
       "      <td>1</td>\n",
       "      <td>0.687703</td>\n",
       "    </tr>\n",
       "    <tr>\n",
       "      <th>5</th>\n",
       "      <td>1</td>\n",
       "      <td>2</td>\n",
       "      <td>1</td>\n",
       "      <td>5</td>\n",
       "      <td>1</td>\n",
       "      <td>0.607655</td>\n",
       "    </tr>\n",
       "    <tr>\n",
       "      <th>17</th>\n",
       "      <td>1</td>\n",
       "      <td>2</td>\n",
       "      <td>2</td>\n",
       "      <td>5</td>\n",
       "      <td>0</td>\n",
       "      <td>0.514160</td>\n",
       "    </tr>\n",
       "    <tr>\n",
       "      <th>18</th>\n",
       "      <td>1</td>\n",
       "      <td>2</td>\n",
       "      <td>2</td>\n",
       "      <td>5</td>\n",
       "      <td>1</td>\n",
       "      <td>0.514160</td>\n",
       "    </tr>\n",
       "  </tbody>\n",
       "</table>\n",
       "</div>"
      ],
      "text/plain": [
       "    Farm_Grown_Ingredients  Zero_Grams_Trans_Fat  Made_With_Natural_Oils  \\\n",
       "3                        1                     1                       1   \n",
       "4                        1                     1                       1   \n",
       "5                        1                     2                       1   \n",
       "17                       1                     2                       2   \n",
       "18                       1                     2                       2   \n",
       "\n",
       "    Process  Target_Rating      Prob  \n",
       "3         3              0  0.467851  \n",
       "4         5              1  0.687703  \n",
       "5         5              1  0.607655  \n",
       "17        5              0  0.514160  \n",
       "18        5              1  0.514160  "
      ]
     },
     "execution_count": 29,
     "metadata": {},
     "output_type": "execute_result"
    }
   ],
   "source": [
    "goodforu_Brand_A_test.head()"
   ]
  },
  {
   "cell_type": "code",
   "execution_count": 61,
   "metadata": {},
   "outputs": [],
   "source": [
    "goodforu_Brand_A_test['Prob_Deciles'] = pd.qcut(goodforu_Brand_A_test['Prob'],q = 20,duplicates = 'drop')"
   ]
  },
  {
   "cell_type": "code",
   "execution_count": 62,
   "metadata": {},
   "outputs": [
    {
     "data": {
      "text/html": [
       "<div>\n",
       "<style scoped>\n",
       "    .dataframe tbody tr th:only-of-type {\n",
       "        vertical-align: middle;\n",
       "    }\n",
       "\n",
       "    .dataframe tbody tr th {\n",
       "        vertical-align: top;\n",
       "    }\n",
       "\n",
       "    .dataframe thead th {\n",
       "        text-align: right;\n",
       "    }\n",
       "</style>\n",
       "<table border=\"1\" class=\"dataframe\">\n",
       "  <thead>\n",
       "    <tr style=\"text-align: right;\">\n",
       "      <th></th>\n",
       "      <th>Farm_Grown_Ingredients</th>\n",
       "      <th>Zero_Grams_Trans_Fat</th>\n",
       "      <th>Made_With_Natural_Oils</th>\n",
       "      <th>Process</th>\n",
       "      <th>Target_Rating</th>\n",
       "      <th>Prob</th>\n",
       "      <th>Prob_Deciles</th>\n",
       "    </tr>\n",
       "  </thead>\n",
       "  <tbody>\n",
       "    <tr>\n",
       "      <th>3</th>\n",
       "      <td>1</td>\n",
       "      <td>1</td>\n",
       "      <td>1</td>\n",
       "      <td>3</td>\n",
       "      <td>0</td>\n",
       "      <td>0.467851</td>\n",
       "      <td>(0.451, 0.487]</td>\n",
       "    </tr>\n",
       "    <tr>\n",
       "      <th>4</th>\n",
       "      <td>1</td>\n",
       "      <td>1</td>\n",
       "      <td>1</td>\n",
       "      <td>5</td>\n",
       "      <td>1</td>\n",
       "      <td>0.687703</td>\n",
       "      <td>(0.626, 0.688]</td>\n",
       "    </tr>\n",
       "    <tr>\n",
       "      <th>5</th>\n",
       "      <td>1</td>\n",
       "      <td>2</td>\n",
       "      <td>1</td>\n",
       "      <td>5</td>\n",
       "      <td>1</td>\n",
       "      <td>0.607655</td>\n",
       "      <td>(0.582, 0.608]</td>\n",
       "    </tr>\n",
       "    <tr>\n",
       "      <th>17</th>\n",
       "      <td>1</td>\n",
       "      <td>2</td>\n",
       "      <td>2</td>\n",
       "      <td>5</td>\n",
       "      <td>0</td>\n",
       "      <td>0.514160</td>\n",
       "      <td>(0.487, 0.514]</td>\n",
       "    </tr>\n",
       "    <tr>\n",
       "      <th>18</th>\n",
       "      <td>1</td>\n",
       "      <td>2</td>\n",
       "      <td>2</td>\n",
       "      <td>5</td>\n",
       "      <td>1</td>\n",
       "      <td>0.514160</td>\n",
       "      <td>(0.487, 0.514]</td>\n",
       "    </tr>\n",
       "  </tbody>\n",
       "</table>\n",
       "</div>"
      ],
      "text/plain": [
       "    Farm_Grown_Ingredients  Zero_Grams_Trans_Fat  Made_With_Natural_Oils  \\\n",
       "3                        1                     1                       1   \n",
       "4                        1                     1                       1   \n",
       "5                        1                     2                       1   \n",
       "17                       1                     2                       2   \n",
       "18                       1                     2                       2   \n",
       "\n",
       "    Process  Target_Rating      Prob    Prob_Deciles  \n",
       "3         3              0  0.467851  (0.451, 0.487]  \n",
       "4         5              1  0.687703  (0.626, 0.688]  \n",
       "5         5              1  0.607655  (0.582, 0.608]  \n",
       "17        5              0  0.514160  (0.487, 0.514]  \n",
       "18        5              1  0.514160  (0.487, 0.514]  "
      ]
     },
     "execution_count": 62,
     "metadata": {},
     "output_type": "execute_result"
    }
   ],
   "source": [
    "goodforu_Brand_A_test.head()"
   ]
  },
  {
   "cell_type": "code",
   "execution_count": 63,
   "metadata": {},
   "outputs": [
    {
     "data": {
      "text/html": [
       "<div>\n",
       "<style scoped>\n",
       "    .dataframe tbody tr th:only-of-type {\n",
       "        vertical-align: middle;\n",
       "    }\n",
       "\n",
       "    .dataframe tbody tr th {\n",
       "        vertical-align: top;\n",
       "    }\n",
       "\n",
       "    .dataframe thead th {\n",
       "        text-align: right;\n",
       "    }\n",
       "</style>\n",
       "<table border=\"1\" class=\"dataframe\">\n",
       "  <thead>\n",
       "    <tr style=\"text-align: right;\">\n",
       "      <th></th>\n",
       "      <th>Farm_Grown_Ingredients</th>\n",
       "      <th>Zero_Grams_Trans_Fat</th>\n",
       "      <th>Made_With_Natural_Oils</th>\n",
       "      <th>Process</th>\n",
       "      <th>Target_Rating</th>\n",
       "      <th>Prob</th>\n",
       "      <th>Prob_Deciles</th>\n",
       "    </tr>\n",
       "  </thead>\n",
       "  <tbody>\n",
       "    <tr>\n",
       "      <th>4371</th>\n",
       "      <td>1</td>\n",
       "      <td>1</td>\n",
       "      <td>1</td>\n",
       "      <td>10</td>\n",
       "      <td>1</td>\n",
       "      <td>0.956263</td>\n",
       "      <td>(0.86, 0.956]</td>\n",
       "    </tr>\n",
       "    <tr>\n",
       "      <th>21566</th>\n",
       "      <td>1</td>\n",
       "      <td>1</td>\n",
       "      <td>1</td>\n",
       "      <td>10</td>\n",
       "      <td>1</td>\n",
       "      <td>0.956263</td>\n",
       "      <td>(0.86, 0.956]</td>\n",
       "    </tr>\n",
       "    <tr>\n",
       "      <th>1058</th>\n",
       "      <td>1</td>\n",
       "      <td>1</td>\n",
       "      <td>1</td>\n",
       "      <td>10</td>\n",
       "      <td>1</td>\n",
       "      <td>0.956263</td>\n",
       "      <td>(0.86, 0.956]</td>\n",
       "    </tr>\n",
       "    <tr>\n",
       "      <th>13489</th>\n",
       "      <td>1</td>\n",
       "      <td>1</td>\n",
       "      <td>1</td>\n",
       "      <td>10</td>\n",
       "      <td>1</td>\n",
       "      <td>0.956263</td>\n",
       "      <td>(0.86, 0.956]</td>\n",
       "    </tr>\n",
       "    <tr>\n",
       "      <th>23231</th>\n",
       "      <td>1</td>\n",
       "      <td>1</td>\n",
       "      <td>1</td>\n",
       "      <td>10</td>\n",
       "      <td>1</td>\n",
       "      <td>0.956263</td>\n",
       "      <td>(0.86, 0.956]</td>\n",
       "    </tr>\n",
       "  </tbody>\n",
       "</table>\n",
       "</div>"
      ],
      "text/plain": [
       "       Farm_Grown_Ingredients  Zero_Grams_Trans_Fat  Made_With_Natural_Oils  \\\n",
       "4371                        1                     1                       1   \n",
       "21566                       1                     1                       1   \n",
       "1058                        1                     1                       1   \n",
       "13489                       1                     1                       1   \n",
       "23231                       1                     1                       1   \n",
       "\n",
       "       Process  Target_Rating      Prob   Prob_Deciles  \n",
       "4371        10              1  0.956263  (0.86, 0.956]  \n",
       "21566       10              1  0.956263  (0.86, 0.956]  \n",
       "1058        10              1  0.956263  (0.86, 0.956]  \n",
       "13489       10              1  0.956263  (0.86, 0.956]  \n",
       "23231       10              1  0.956263  (0.86, 0.956]  "
      ]
     },
     "execution_count": 63,
     "metadata": {},
     "output_type": "execute_result"
    }
   ],
   "source": [
    "goodforu_Brand_A_test.sort_values('Prob',ascending = False).head()"
   ]
  },
  {
   "cell_type": "code",
   "execution_count": 64,
   "metadata": {},
   "outputs": [],
   "source": [
    "gains = goodforu_Brand_A_test.groupby(\"Prob_Deciles\",as_index=False)['Target_Rating'].agg(['sum','count']).reset_index().sort_values(\"Prob_Deciles\", ascending=False)"
   ]
  },
  {
   "cell_type": "code",
   "execution_count": 65,
   "metadata": {},
   "outputs": [],
   "source": [
    "gains.columns = [\"Deciles\",\"TotalEvents\",\"NumberObs\"]"
   ]
  },
  {
   "cell_type": "code",
   "execution_count": 66,
   "metadata": {},
   "outputs": [],
   "source": [
    "gains[\"PercEvents\"] = gains['TotalEvents'] / gains['TotalEvents'].sum()"
   ]
  },
  {
   "cell_type": "code",
   "execution_count": 67,
   "metadata": {},
   "outputs": [],
   "source": [
    "gains[\"CumulativeEvents\"] = gains.PercEvents.cumsum()"
   ]
  },
  {
   "cell_type": "code",
   "execution_count": 68,
   "metadata": {},
   "outputs": [
    {
     "data": {
      "text/html": [
       "<div>\n",
       "<style scoped>\n",
       "    .dataframe tbody tr th:only-of-type {\n",
       "        vertical-align: middle;\n",
       "    }\n",
       "\n",
       "    .dataframe tbody tr th {\n",
       "        vertical-align: top;\n",
       "    }\n",
       "\n",
       "    .dataframe thead th {\n",
       "        text-align: right;\n",
       "    }\n",
       "</style>\n",
       "<table border=\"1\" class=\"dataframe\">\n",
       "  <thead>\n",
       "    <tr style=\"text-align: right;\">\n",
       "      <th></th>\n",
       "      <th>Deciles</th>\n",
       "      <th>TotalEvents</th>\n",
       "      <th>NumberObs</th>\n",
       "      <th>PercEvents</th>\n",
       "      <th>CumulativeEvents</th>\n",
       "    </tr>\n",
       "  </thead>\n",
       "  <tbody>\n",
       "    <tr>\n",
       "      <th>18</th>\n",
       "      <td>(0.86, 0.956]</td>\n",
       "      <td>169</td>\n",
       "      <td>221</td>\n",
       "      <td>0.069206</td>\n",
       "      <td>0.069206</td>\n",
       "    </tr>\n",
       "    <tr>\n",
       "      <th>17</th>\n",
       "      <td>(0.795, 0.86]</td>\n",
       "      <td>198</td>\n",
       "      <td>243</td>\n",
       "      <td>0.081081</td>\n",
       "      <td>0.150287</td>\n",
       "    </tr>\n",
       "    <tr>\n",
       "      <th>16</th>\n",
       "      <td>(0.777, 0.795]</td>\n",
       "      <td>74</td>\n",
       "      <td>97</td>\n",
       "      <td>0.030303</td>\n",
       "      <td>0.180590</td>\n",
       "    </tr>\n",
       "    <tr>\n",
       "      <th>15</th>\n",
       "      <td>(0.71, 0.777]</td>\n",
       "      <td>255</td>\n",
       "      <td>335</td>\n",
       "      <td>0.104423</td>\n",
       "      <td>0.285012</td>\n",
       "    </tr>\n",
       "    <tr>\n",
       "      <th>14</th>\n",
       "      <td>(0.688, 0.71]</td>\n",
       "      <td>134</td>\n",
       "      <td>174</td>\n",
       "      <td>0.054873</td>\n",
       "      <td>0.339885</td>\n",
       "    </tr>\n",
       "    <tr>\n",
       "      <th>13</th>\n",
       "      <td>(0.626, 0.688]</td>\n",
       "      <td>239</td>\n",
       "      <td>324</td>\n",
       "      <td>0.097871</td>\n",
       "      <td>0.437756</td>\n",
       "    </tr>\n",
       "    <tr>\n",
       "      <th>12</th>\n",
       "      <td>(0.608, 0.626]</td>\n",
       "      <td>105</td>\n",
       "      <td>151</td>\n",
       "      <td>0.042998</td>\n",
       "      <td>0.480753</td>\n",
       "    </tr>\n",
       "    <tr>\n",
       "      <th>11</th>\n",
       "      <td>(0.582, 0.608]</td>\n",
       "      <td>219</td>\n",
       "      <td>333</td>\n",
       "      <td>0.089681</td>\n",
       "      <td>0.570434</td>\n",
       "    </tr>\n",
       "    <tr>\n",
       "      <th>10</th>\n",
       "      <td>(0.514, 0.582]</td>\n",
       "      <td>142</td>\n",
       "      <td>231</td>\n",
       "      <td>0.058149</td>\n",
       "      <td>0.628583</td>\n",
       "    </tr>\n",
       "    <tr>\n",
       "      <th>9</th>\n",
       "      <td>(0.487, 0.514]</td>\n",
       "      <td>299</td>\n",
       "      <td>507</td>\n",
       "      <td>0.122441</td>\n",
       "      <td>0.751024</td>\n",
       "    </tr>\n",
       "    <tr>\n",
       "      <th>8</th>\n",
       "      <td>(0.451, 0.487]</td>\n",
       "      <td>54</td>\n",
       "      <td>145</td>\n",
       "      <td>0.022113</td>\n",
       "      <td>0.773137</td>\n",
       "    </tr>\n",
       "    <tr>\n",
       "      <th>7</th>\n",
       "      <td>(0.401, 0.451]</td>\n",
       "      <td>106</td>\n",
       "      <td>184</td>\n",
       "      <td>0.043407</td>\n",
       "      <td>0.816544</td>\n",
       "    </tr>\n",
       "    <tr>\n",
       "      <th>6</th>\n",
       "      <td>(0.342, 0.401]</td>\n",
       "      <td>161</td>\n",
       "      <td>416</td>\n",
       "      <td>0.065930</td>\n",
       "      <td>0.882473</td>\n",
       "    </tr>\n",
       "    <tr>\n",
       "      <th>5</th>\n",
       "      <td>(0.297, 0.342]</td>\n",
       "      <td>36</td>\n",
       "      <td>137</td>\n",
       "      <td>0.014742</td>\n",
       "      <td>0.897215</td>\n",
       "    </tr>\n",
       "    <tr>\n",
       "      <th>4</th>\n",
       "      <td>(0.26, 0.297]</td>\n",
       "      <td>95</td>\n",
       "      <td>325</td>\n",
       "      <td>0.038903</td>\n",
       "      <td>0.936118</td>\n",
       "    </tr>\n",
       "    <tr>\n",
       "      <th>3</th>\n",
       "      <td>(0.211, 0.26]</td>\n",
       "      <td>46</td>\n",
       "      <td>185</td>\n",
       "      <td>0.018837</td>\n",
       "      <td>0.954955</td>\n",
       "    </tr>\n",
       "    <tr>\n",
       "      <th>2</th>\n",
       "      <td>(0.172, 0.211]</td>\n",
       "      <td>56</td>\n",
       "      <td>302</td>\n",
       "      <td>0.022932</td>\n",
       "      <td>0.977887</td>\n",
       "    </tr>\n",
       "    <tr>\n",
       "      <th>1</th>\n",
       "      <td>(0.144, 0.172]</td>\n",
       "      <td>16</td>\n",
       "      <td>104</td>\n",
       "      <td>0.006552</td>\n",
       "      <td>0.984439</td>\n",
       "    </tr>\n",
       "    <tr>\n",
       "      <th>0</th>\n",
       "      <td>(0.115, 0.144]</td>\n",
       "      <td>38</td>\n",
       "      <td>409</td>\n",
       "      <td>0.015561</td>\n",
       "      <td>1.000000</td>\n",
       "    </tr>\n",
       "  </tbody>\n",
       "</table>\n",
       "</div>"
      ],
      "text/plain": [
       "           Deciles  TotalEvents  NumberObs  PercEvents  CumulativeEvents\n",
       "18   (0.86, 0.956]          169        221    0.069206          0.069206\n",
       "17   (0.795, 0.86]          198        243    0.081081          0.150287\n",
       "16  (0.777, 0.795]           74         97    0.030303          0.180590\n",
       "15   (0.71, 0.777]          255        335    0.104423          0.285012\n",
       "14   (0.688, 0.71]          134        174    0.054873          0.339885\n",
       "13  (0.626, 0.688]          239        324    0.097871          0.437756\n",
       "12  (0.608, 0.626]          105        151    0.042998          0.480753\n",
       "11  (0.582, 0.608]          219        333    0.089681          0.570434\n",
       "10  (0.514, 0.582]          142        231    0.058149          0.628583\n",
       "9   (0.487, 0.514]          299        507    0.122441          0.751024\n",
       "8   (0.451, 0.487]           54        145    0.022113          0.773137\n",
       "7   (0.401, 0.451]          106        184    0.043407          0.816544\n",
       "6   (0.342, 0.401]          161        416    0.065930          0.882473\n",
       "5   (0.297, 0.342]           36        137    0.014742          0.897215\n",
       "4    (0.26, 0.297]           95        325    0.038903          0.936118\n",
       "3    (0.211, 0.26]           46        185    0.018837          0.954955\n",
       "2   (0.172, 0.211]           56        302    0.022932          0.977887\n",
       "1   (0.144, 0.172]           16        104    0.006552          0.984439\n",
       "0   (0.115, 0.144]           38        409    0.015561          1.000000"
      ]
     },
     "execution_count": 68,
     "metadata": {},
     "output_type": "execute_result"
    }
   ],
   "source": [
    "gains"
   ]
  },
  {
   "cell_type": "markdown",
   "metadata": {},
   "source": [
    "# Questions and Answers from the Assignment Quiz\n",
    "\n",
    "The first thing that the manufacturer is interested in is, knowing how people perceive his brand with regards to the usage of farm ingredients, zero trans-fat and the use of natural oils. Answer the following questions keeping this context in mind. \n",
    "\n",
    "*Note: In the data set, label of 1 means that the responded answered ‘Yes’ and a label of 2 means that the responded answered as ‘No’*"
   ]
  },
  {
   "cell_type": "code",
   "execution_count": 38,
   "metadata": {},
   "outputs": [
    {
     "data": {
      "text/plain": [
       "19126"
      ]
     },
     "execution_count": 38,
     "metadata": {},
     "output_type": "execute_result"
    }
   ],
   "source": [
    "#Q1: From the survey data, how many people believed that Brand A is manufactured with farm ingredients.\n",
    "#Answer: 19126\n",
    "\n",
    "goodforu_Brand_A[goodforu_Brand_A['Farm_Grown_Ingredients']==1].shape[0]"
   ]
  },
  {
   "cell_type": "code",
   "execution_count": 39,
   "metadata": {},
   "outputs": [
    {
     "data": {
      "text/plain": [
       "79.3149207929004"
      ]
     },
     "execution_count": 39,
     "metadata": {},
     "output_type": "execute_result"
    }
   ],
   "source": [
    "# About 79% people believe that Brand A is manufactured with farm ingredients.\n",
    "\n",
    "(goodforu_Brand_A[goodforu_Brand_A['Farm_Grown_Ingredients']==1].shape[0]/goodforu_Brand_A.shape[0])*100"
   ]
  },
  {
   "cell_type": "code",
   "execution_count": 40,
   "metadata": {},
   "outputs": [
    {
     "data": {
      "text/plain": [
       "10645"
      ]
     },
     "execution_count": 40,
     "metadata": {},
     "output_type": "execute_result"
    }
   ],
   "source": [
    "#Q2: From the survey data, how many people believed that Brand A is manufactured with natural oils? \n",
    "#Answer: 10645\n",
    "\n",
    "goodforu_Brand_A[goodforu_Brand_A['Made_With_Natural_Oils']==1].shape[0]"
   ]
  },
  {
   "cell_type": "code",
   "execution_count": 41,
   "metadata": {},
   "outputs": [
    {
     "data": {
      "text/plain": [
       "44.14448038483868"
      ]
     },
     "execution_count": 41,
     "metadata": {},
     "output_type": "execute_result"
    }
   ],
   "source": [
    "# About 44% people believe that Brand A is manufactured with Natural_Oils.\n",
    "\n",
    "(goodforu_Brand_A[goodforu_Brand_A['Made_With_Natural_Oils']==1].shape[0]/goodforu_Brand_A.shape[0])*100"
   ]
  },
  {
   "cell_type": "code",
   "execution_count": 42,
   "metadata": {},
   "outputs": [
    {
     "data": {
      "text/plain": [
       "7625"
      ]
     },
     "execution_count": 42,
     "metadata": {},
     "output_type": "execute_result"
    }
   ],
   "source": [
    "#Q3: From the survey data, how many people believed that Brand A is manufactured with ingredients having zero-gram trans-fat?\n",
    "#Answer: 7625\n",
    "\n",
    "goodforu_Brand_A[goodforu_Brand_A['Zero_Grams_Trans_Fat'] == 1].shape[0]"
   ]
  },
  {
   "cell_type": "code",
   "execution_count": 43,
   "metadata": {},
   "outputs": [
    {
     "data": {
      "text/plain": [
       "31.620635315584305"
      ]
     },
     "execution_count": 43,
     "metadata": {},
     "output_type": "execute_result"
    }
   ],
   "source": [
    "# About 32% people believe that Brand A has Zero Grams of Trans Fat.\n",
    "\n",
    "(goodforu_Brand_A[goodforu_Brand_A['Zero_Grams_Trans_Fat'] == 1].shape[0]/goodforu_Brand_A.shape[0])*100"
   ]
  },
  {
   "cell_type": "markdown",
   "metadata": {},
   "source": [
    "The manufacturer is also interested in figuring out what is the overall perception about Brand A as well as finding out if a specific set of factors drive brand perception."
   ]
  },
  {
   "cell_type": "code",
   "execution_count": 44,
   "metadata": {},
   "outputs": [],
   "source": [
    "#Q4: The variable denoting overall perception for Brand A is named as ____.\n",
    "#Answer: X23"
   ]
  },
  {
   "cell_type": "code",
   "execution_count": 45,
   "metadata": {},
   "outputs": [
    {
     "data": {
      "text/plain": [
       "50.42713776229576"
      ]
     },
     "execution_count": 45,
     "metadata": {},
     "output_type": "execute_result"
    }
   ],
   "source": [
    "#Q5: 50% of the people in survey have rated overall perception of Brand A as 4 or less.\n",
    "#Answer: True, about 50% of the people in survey have rated overall perception of Brand A as 4 or less\n",
    "\n",
    "(goodforu_Brand_A[goodforu_Brand_A['Target_Rating'] == 0].shape[0]/goodforu_Brand_A.shape[0])*100"
   ]
  },
  {
   "cell_type": "code",
   "execution_count": 46,
   "metadata": {},
   "outputs": [
    {
     "data": {
      "text/plain": [
       "11954"
      ]
     },
     "execution_count": 46,
     "metadata": {},
     "output_type": "execute_result"
    }
   ],
   "source": [
    "#Q6: If we assume that someone who has scored 5 or more for the variable representing overall perception about the brand A, \n",
    "#has a good perception about brand A, then how many respondents have a good perception about brand A?\n",
    "#Answer: 11954\n",
    "\n",
    "goodforu_Brand_A[goodforu_Brand_A['Target_Rating'] == 1].shape[0]"
   ]
  },
  {
   "cell_type": "code",
   "execution_count": 47,
   "metadata": {},
   "outputs": [],
   "source": [
    "#Q7: To test if the presence of ingredients which contain\n",
    "\n",
    "#(i) Zero Trans Fat\n",
    "#(ii) Farm grown ingredients\n",
    "#(iii) Natural Oils\n",
    "#(iv) Minimally processed items\n",
    "\n",
    "#Impact the overall perception for Brand A, we can build a logistic regression model with 4 Independent Variables.\n",
    "#Answer: True, we can build a logistic regression model with the given 4 Independent Variables"
   ]
  },
  {
   "cell_type": "markdown",
   "metadata": {},
   "source": [
    "The Manufacturer wants to know how each of the four factors (see question 4) affects overall perception about Brand A. For this a logistic regression model is built. Answer the following questions with this context in mind."
   ]
  },
  {
   "cell_type": "code",
   "execution_count": 48,
   "metadata": {},
   "outputs": [
    {
     "name": "stdout",
     "output_type": "stream",
     "text": [
      "                 Generalized Linear Model Regression Results                  \n",
      "==============================================================================\n",
      "Dep. Variable:          Target_Rating   No. Observations:                19291\n",
      "Model:                            GLM   Df Residuals:                    19286\n",
      "Model Family:                Binomial   Df Model:                            4\n",
      "Link Function:                  logit   Scale:                          1.0000\n",
      "Method:                          IRLS   Log-Likelihood:                -11130.\n",
      "Date:                Fri, 25 Sep 2020   Deviance:                       22261.\n",
      "Time:                        19:47:53   Pearson chi2:                 1.99e+04\n",
      "No. Iterations:                     4                                         \n",
      "Covariance Type:            nonrobust                                         \n",
      "==========================================================================================\n",
      "                             coef    std err          z      P>|z|      [0.025      0.975]\n",
      "------------------------------------------------------------------------------------------\n",
      "Intercept                 -0.5209      0.091     -5.695      0.000      -0.700      -0.342\n",
      "Farm_Grown_Ingredients    -0.2523      0.042     -5.988      0.000      -0.335      -0.170\n",
      "Zero_Grams_Trans_Fat      -0.3519      0.037     -9.476      0.000      -0.425      -0.279\n",
      "Made_With_Natural_Oils    -0.3808      0.036    -10.688      0.000      -0.451      -0.311\n",
      "Process                    0.4591      0.009     51.740      0.000       0.442       0.476\n",
      "==========================================================================================\n"
     ]
    }
   ],
   "source": [
    "print(model1.summary())\n",
    "\n",
    "#Except the process variables all the other variables have negative impact on brand preception"
   ]
  },
  {
   "cell_type": "code",
   "execution_count": 49,
   "metadata": {},
   "outputs": [],
   "source": [
    "#Q8: Log odds of having a good perception are more if someone has said ‘Yes’ to a question regarding the use of farm grown \n",
    "#ingredients\n",
    "#Answer: True, if someone has said ‘Yes’ to a question regarding the use of farm grown ingredients, the Log odds of having a \n",
    "#good perception inceases"
   ]
  },
  {
   "cell_type": "code",
   "execution_count": 50,
   "metadata": {},
   "outputs": [],
   "source": [
    "#Q9: If someone responds ‘No’ to a question regarding the use of ‘Natural Oils’ then the log odds of that person having a \n",
    "#good perception about Brand A will decrease by ______ (use 6 significant digits)\n",
    "#Answer: It decreases by -0.3808."
   ]
  },
  {
   "cell_type": "code",
   "execution_count": 51,
   "metadata": {},
   "outputs": [],
   "source": [
    "#Q10: Is the result that the level of processing is related to overall perception of brand A, statistically significant?\n",
    "#Answer: True"
   ]
  },
  {
   "cell_type": "code",
   "execution_count": 52,
   "metadata": {},
   "outputs": [],
   "source": [
    "#Q11: The Manufacturer wants to know how each of the four factors (see question 4) affects overall perception about Brand A. \n",
    "# For this a logistic regression model is built. Answer the following questions with this context in mind.\n",
    "\n",
    "# Farm Grown = No => -0.2522\n",
    "# Zero Tans Fat = No => -0.4063\n",
    "# Natural Oils = No => 0.4572\n",
    "# Level of Processing => -0.3519\n",
    "\n",
    "#Answer: # Farm Grown = No => -0.2522\n",
    "# Zero Tans Fat = No => -0.3519\n",
    "# Natural Oils = No => -0.4063\n",
    "# Level of Processing => 0.4572"
   ]
  },
  {
   "cell_type": "code",
   "execution_count": null,
   "metadata": {},
   "outputs": [],
   "source": [
    "#Key Observations  on the basis of the Model\n",
    "\n",
    "##About 50% of the people in survey have rated overall perception of Brand A as 5 or greater.\n",
    "##About 79% people believe that Brand A is manufactured with farm ingredients.\n",
    "##About 44% people believe that Brand A is manufactured with Natural Oils.\n",
    "##About 32% people believe that Brand A has Zero Grams of Trans Fat.\n",
    "##The Logistic Regression Model obtained has the following form:\n",
    "\n",
    "##Log(pi/1-pi) = (-0.5209) + (-0.2523)X2 + (-0.3519)X9 + (-0.3808)X16 + (0.4591)X30\n",
    "\n",
    "##All the variables are significant. \n",
    "##Except the process variable all the other variables have a positive impact on brand perception.\n",
    "##The accuracy of the model is 76.82%."
   ]
  },
  {
   "cell_type": "code",
   "execution_count": null,
   "metadata": {},
   "outputs": [],
   "source": [
    "####END OF THE CODE###"
   ]
  }
 ],
 "metadata": {
  "kernelspec": {
   "display_name": "Python 3",
   "language": "python",
   "name": "python3"
  },
  "language_info": {
   "codemirror_mode": {
    "name": "ipython",
    "version": 3
   },
   "file_extension": ".py",
   "mimetype": "text/x-python",
   "name": "python",
   "nbconvert_exporter": "python",
   "pygments_lexer": "ipython3",
   "version": "3.7.7"
  }
 },
 "nbformat": 4,
 "nbformat_minor": 4
}
